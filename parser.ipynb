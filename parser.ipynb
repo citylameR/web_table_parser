{
 "cells": [
  {
   "cell_type": "code",
   "execution_count": 1,
   "id": "b21b2b09",
   "metadata": {},
   "outputs": [],
   "source": [
    "import requests\n",
    "from bs4 import BeautifulSoup\n",
    "import pandas as pd\n",
    "import numpy as np"
   ]
  },
  {
   "cell_type": "code",
   "execution_count": 2,
   "id": "eb4ec247",
   "metadata": {},
   "outputs": [],
   "source": [
    "url = \"https://adindex.ru/ratings/marketing/2021/300770/\""
   ]
  },
  {
   "cell_type": "code",
   "execution_count": 3,
   "id": "1c116249",
   "metadata": {},
   "outputs": [],
   "source": [
    "response = requests.get(url)\n",
    "soup = BeautifulSoup(response.text, 'lxml')"
   ]
  },
  {
   "cell_type": "code",
   "execution_count": 4,
   "id": "710810e6",
   "metadata": {},
   "outputs": [],
   "source": [
    "dfs = []"
   ]
  },
  {
   "cell_type": "code",
   "execution_count": 8,
   "id": "58297b5b",
   "metadata": {},
   "outputs": [],
   "source": [
    "with pd.ExcelWriter('data.xlsx') as writer:\n",
    "  \n",
    "    #Поиск названия таблицы\n",
    "    h2s = soup.find_all('h2', class_='rating-subtitle')\n",
    "    \n",
    "    #Поиск таблицы\n",
    "    tables = soup.find_all('table', class_='rating-table-full js-rating-datatable-table')\n",
    "    \n",
    "    #цикл zip для правильной валидации данных\n",
    "    for h2, table in zip(h2s, tables):\n",
    "\n",
    "        #Название листа в Excel вмещает в себя 31 символ\n",
    "        sheet_name = h2.text[:31]\n",
    "\n",
    "        rows = table.find_all('tr')\n",
    "        headers = [th.text for th in rows[0].find_all('th')]\n",
    "\n",
    "        data = []\n",
    "        for row in rows[1:]:\n",
    "            cols = row.find_all('td')\n",
    "            row_data = [col.text for col in cols]\n",
    "            data.append(row_data)\n",
    "\n",
    "        df = pd.DataFrame(data, columns=headers)\n",
    "\n",
    "        for df in dfs: #Сортировка по целому бюджету\n",
    "\n",
    "            if \"Открытая отчетность за 2021 год. Банки\" in sheet_name:\n",
    "\n",
    "                if {'2016', '2017', '2018', '2019', '2020', '2021'}.issubset(df.columns):\n",
    "                    mean_budget = df[['2016', '2017', '2018', '2019', '2020', '2021']].mean(axis=1)\n",
    "                    df['mean_budget'] = mean_budget\n",
    "\n",
    "                    df = df.sort_values(by='mean_budget', ascending=False)\n",
    "                    df = df.drop(columns=['mean_budget'])\n",
    "\n",
    "        numeric_cols = df.select_dtypes(include=[np.number]).columns\n",
    "\n",
    "        df[numeric_cols] = df[numeric_cols].apply(pd.to_numeric, errors='coerce') #Приведения числа к Float\n",
    "        df = df.replace('N/a', 'None') # Замена N/a на None\n",
    "        df.to_excel(writer, sheet_name=sheet_name, index=False) # Запись в Excel\n"
   ]
  },
  {
   "cell_type": "code",
   "execution_count": null,
   "id": "67551dcf",
   "metadata": {},
   "outputs": [],
   "source": [
    "print(\"Готово!\")"
   ]
  }
 ],
 "metadata": {
  "kernelspec": {
   "display_name": "Python 3 (ipykernel)",
   "language": "python",
   "name": "python3"
  },
  "language_info": {
   "codemirror_mode": {
    "name": "ipython",
    "version": 3
   },
   "file_extension": ".py",
   "mimetype": "text/x-python",
   "name": "python",
   "nbconvert_exporter": "python",
   "pygments_lexer": "ipython3",
   "version": "3.10.6"
  }
 },
 "nbformat": 4,
 "nbformat_minor": 5
}
